{
 "cells": [
  {
   "cell_type": "markdown",
   "metadata": {},
   "source": [
    "## Práctica 1: Inmutabilidad de las cadenas"
   ]
  },
  {
   "cell_type": "code",
   "execution_count": 3,
   "metadata": {},
   "outputs": [
    {
     "data": {
      "text/plain": [
       "'The Moon has no atmosphere.No sound can be heard on the Moon.'"
      ]
     },
     "execution_count": 3,
     "metadata": {},
     "output_type": "execute_result"
    }
   ],
   "source": [
    "fact = 'The Moon has no atmosphere.'\n",
    "fact + 'No sound can be heard on the Moon.'\n",
    "fact\n",
    "two_facts = fact + 'No sound can be heard on the Moon.'\n",
    "two_facts"
   ]
  },
  {
   "cell_type": "markdown",
   "metadata": {},
   "source": [
    "## Primer ejercicio: Transformar cadenas "
   ]
  },
  {
   "cell_type": "code",
   "execution_count": 8,
   "metadata": {},
   "outputs": [
    {
     "name": "stdout",
     "output_type": "stream",
     "text": [
      " \n",
      "On average, the Moon moves 4cm away from the Earth every year\n",
      " \n",
      "On average, the Moon moves 4cm away from the Earth every year\n"
     ]
    }
   ],
   "source": [
    "text = \"\"\"Interesting facts about the Moon. The Moon is Earth's only satellite. There are several interesting facts about the Moon and how it affects life here on Earth. \n",
    "On average, the Moon moves 4cm away from the Earth every year. This yearly drift is not significant enough to cause immediate effects on Earth. The highes\"\"\"\n",
    "text.split('.')\n",
    "palabras_clave=['average','temperature','distance']\n",
    "for oracion in text.split('.'):\n",
    "    # print (oracion)\n",
    "    for palabra in palabras_clave:\n",
    "        # print(palabra)\n",
    "        if palabra in oracion:\n",
    "            print (oracion)\n",
    "            break\n",
    "        \n",
    "for oracion in text.split('.'):\n",
    "    # print (oracion)\n",
    "    for palabra in palabras_clave:\n",
    "        # print(palabra)\n",
    "        if palabra in oracion:\n",
    "            print (oracion.replace('C', 'Celsius'))\n",
    "            break "
   ]
  },
  {
   "cell_type": "markdown",
   "metadata": {},
   "source": [
    "## Ejercicio 2: Formateando Cadenas"
   ]
  },
  {
   "cell_type": "code",
   "execution_count": 18,
   "metadata": {},
   "outputs": [
    {
     "name": "stdout",
     "output_type": "stream",
     "text": [
      "\n",
      "Gravity Facts about Moon\n",
      "-------------------------------------------------------------------------------\n",
      "\n",
      "Planet Name: Earth\n",
      "Gravity on Moon: 1.62 m/s2\n",
      "\n",
      "\n",
      "Gravity Facts about Moon\n",
      "-------------------------------------------------------------------------------\n",
      "Planet Name: Earth\n",
      "Gravity on Moon: 1.62 m/s2\n",
      "\n",
      "\n",
      "Gravity Facts about Ganímedes\n",
      "-------------------------------------------------------------------------------\n",
      "Planet Name: Marte \n",
      "Gravity on Ganímedes: 1.43 m/s2\n",
      "\n",
      "\n",
      "Gravity Facts about Ganímedes\n",
      "-------------------------------------------------------------------------------\n",
      "Planet Name: Marte \n",
      "Gravity on Ganímedes: 1.43 m/s2\n",
      "\n",
      "Gravity Facts about Ganímedes\n",
      "-------------------------------------------------------------------------------\n",
      "Planet Name: Marte \n",
      "Gravity on Ganímedes: 1.43 m/s2\n"
     ]
    }
   ],
   "source": [
    "name = \"Moon\"\n",
    "gravity = 0.00162 # in kms\n",
    "planet = \"Earth\"\n",
    "gravity_facts_title = \"\"\"\n",
    "Gravity Facts about %s\n",
    "-------------------------------------------------------------------------------\"\"\"\n",
    "print(gravity_facts_title %name)\n",
    "# Creamos la plantilla\n",
    "gravity_facts = \"\"\"\n",
    "Planet Name: %s\n",
    "Gravity on %s: %s m/s2\n",
    "\"\"\"\n",
    "print(gravity_facts %(planet,name,round(gravity*1000,2)))\n",
    "union = ''.join([gravity_facts_title, gravity_facts])\n",
    "print(union % (name, planet,name,round(gravity*1000,2)))\n",
    "\n",
    "planeta = 'Marte '\n",
    "gravedad  = 0.00143\n",
    "nombre = 'Ganímedes'\n",
    "print(union % (nombre, planeta,nombre,round(gravedad*1000,2)))\n",
    "\n",
    "plantilla = \"\"\"\n",
    "Gravity Facts about {0}\n",
    "-------------------------------------------------------------------------------\n",
    "Planet Name: {1}\n",
    "Gravity on {0}: {2} m/s2\"\"\"\n",
    "print(plantilla.format(nombre,planeta,round(gravedad*1000,2)))\n",
    "graveda_ms = round(gravedad*1000,2)\n",
    "print(plantilla.format(nombre,planeta,graveda_ms))\n"
   ]
  }
 ],
 "metadata": {
  "interpreter": {
   "hash": "6bbd0ee0235839425936249575dae8e2bd1f59e549f1d076dba967fa1e58f442"
  },
  "kernelspec": {
   "display_name": "Python 3.10.2 64-bit (system)",
   "language": "python",
   "name": "python3"
  },
  "language_info": {
   "codemirror_mode": {
    "name": "ipython",
    "version": 3
   },
   "file_extension": ".py",
   "mimetype": "text/x-python",
   "name": "python",
   "nbconvert_exporter": "python",
   "pygments_lexer": "ipython3",
   "version": "3.10.2"
  },
  "orig_nbformat": 4
 },
 "nbformat": 4,
 "nbformat_minor": 2
}
